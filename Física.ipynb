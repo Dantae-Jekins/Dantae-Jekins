{
  "nbformat": 4,
  "nbformat_minor": 0,
  "metadata": {
    "colab": {
      "provenance": [],
      "collapsed_sections": [],
      "authorship_tag": "ABX9TyOVF6iNSdNQl/3n7zNiz0xt",
      "include_colab_link": true
    },
    "kernelspec": {
      "name": "python3",
      "display_name": "Python 3"
    },
    "language_info": {
      "name": "python"
    }
  },
  "cells": [
    {
      "cell_type": "markdown",
      "metadata": {
        "id": "view-in-github",
        "colab_type": "text"
      },
      "source": [
        "<a href=\"https://colab.research.google.com/github/Dantae-Jekins/Dantae-Jekins/blob/main/F%C3%ADsica.ipynb\" target=\"_parent\"><img src=\"https://colab.research.google.com/assets/colab-badge.svg\" alt=\"Open In Colab\"/></a>"
      ]
    },
    {
      "cell_type": "markdown",
      "source": [
        "# Atividade de física\n",
        "## Lançamento de projétil\n",
        "\n",
        "Para o teste considera-se o seguinte:\n",
        "  - Velocidade horizontal constante\n",
        "  - Velocidade vertical em relação à gravidade\n",
        "  - Por dedução com base nos itens acima atrito com o ar não é considerado.\n",
        "  - Se atrito com o ar não é considerado massa também não.\n",
        "\n",
        "\n",
        "<br>\n",
        "\n",
        "### Projeto\n",
        "\n",
        "Considerando as informações que discutimos em sala de aula nos dias 25/08/2022 e 01/09/2022, montem uma simulação capaz de descrever o lançamento balistico de um projetil de velocidade inicial $v_0$ e ângulo de lançamento $theta$.\n",
        "\n",
        "Os dados de saida devem ser apresentados numa tabela com as colunas de tempo, posição $X$, posição $Y$, componente  horizontal da velocidade $v_x$, componente vertical da velocidade $v_y$, velocidade total $v_t$ e ângulo da velocidade alpha.\n",
        "\n",
        "Sugiro fortemente utilizarem o ambiente Python do COLAB.\n",
        "\n",
        "Atividade individual, prazo de entrega  08/09/2022.\n",
        "\n",
        "<br>\n",
        "\n",
        "### Explicação\n",
        "\n",
        "Portanto pelo o enunciado o projeto deve trabalhar com base em dois valores, \n",
        "$V_0$ e $\\beta$ (orientação do projétil em ângulo).\n",
        "\n",
        "Itens necessários:\n",
        "- Decomposição de $V_0$ e $\\beta$ em $V_x$ e $Vy$.\n",
        "- Cálculo de posição em tempo $t$.\n",
        "- Cálculo de tempo quando altura retorna à origem ($P_1 = P_2$).\n",
        "\n",
        "Itens opcionais adicionados:\n",
        "- Extração do vetor de direção $x$ e $y$ em tempo t\n",
        "- Extração do ângulo entre dois vetores\n",
        "\n",
        "<br>\n",
        "\n",
        "### Funções utilizadas\n",
        "\n",
        "Função para extração de pos1 com velocidade variável.\n",
        "Aplicável para x ou y. (Na horizontal $a=0$)\n",
        "\n",
        "$p_1(Δt, p_0, a, v_0) = p_0 + v0*Δt + \\frac{a*Δt^2}2$\n",
        "\n",
        "<br>\n",
        "\n",
        "Função para extração de tempo necessário para chegar a origem, ou seja $P_0 = P_1$. Se $P_0 \\not= P_1$ então temos sérios problemas algébricos. ( Em isolar t em função de p1 e p2, pois teríamos um domínio inválido aonde $p_1 >$ *máximo da parábola* ou $p_1 <$ *mínimo de parábola*)\n",
        "\n",
        "$t(a, v_0) = \\frac{-2 * v_0}a$\n",
        "\n",
        "\n",
        "\n",
        "\n",
        "\n",
        "\n"
      ],
      "metadata": {
        "id": "1SgQ6SzmWpJB"
      }
    },
    {
      "cell_type": "markdown",
      "source": [
        "### Objetos preparados por enquanto\n",
        "\n",
        "- vec2 : vetor de duas dimensões, com campos os x, y e o (TODO)ângulo em radianos\n",
        "\n",
        "- point2: ponto no espaço, com os campos x e y apenas."
      ],
      "metadata": {
        "id": "JodtQx1ilgWB"
      }
    },
    {
      "cell_type": "code",
      "source": [
        "\n",
        "import math;\n",
        "\n",
        "\n",
        "\"\"\"\n",
        "    Classe simples para representar um ponto no espaço\n",
        "\"\"\"\n",
        "class point2:\n",
        "    def __init__(self, x, y):\n",
        "        self.x = x;\n",
        "        self.y = y;\n",
        "\n",
        "\n",
        "\"\"\"\n",
        "    Classe para um vetor no espaço, usado para a formação de vetores ou\n",
        "    extração do ângulo de um vetor\n",
        "\"\"\"\n",
        "class vec2:\n",
        "\n",
        "    \"\"\"\n",
        "        Gera um vetor com base em um ponto no espaço\n",
        "        ou com base em um escalar e um ângulo\n",
        "    \"\"\"\n",
        "    def __init__(self, *args):\n",
        "        if (len(args) == 1):\n",
        "            if isinstance(args[0], point2 ):\n",
        "                self.x = args[0].x;\n",
        "                self.y = args[0].y;\n",
        "                return;\n",
        "\n",
        "            elif isinstance(args[0], tuple):\n",
        "                self.x = args[0][0];\n",
        "                self.y = args[0][1];\n",
        "                return;\n",
        "        \n",
        "        elif (len(args) == 2):\n",
        "            if (isinstance(args[0], float) and isinstance(args[1], float)):\n",
        "                rad = math.radians(args[1]);\n",
        "                self.x = math.cos(rad) * args[0];\n",
        "                self.y = math.sin(rad) * args[0];\n",
        "                return;\n",
        "\n",
        "        ## se deu erro\n",
        "\n",
        "        self.x = 0.0;\n",
        "        self.y = 0.0;\n",
        "\n",
        "\n",
        "    \"\"\"\n",
        "        Retorna o ângulo entre os componentes do vetor\n",
        "    \"\"\"\n",
        "    def get_Angle(self):\n",
        "        #TODO! não usar arctg (erro em adjacente = 0), produto escalar.\n",
        "        return 0;\n",
        "\n",
        "\n",
        "    \"\"\"\n",
        "        Retorna o módulo, ou comprimento, do vetor\n",
        "    \"\"\"\n",
        "    def get_Module(self):\n",
        "        ##TODO!\n",
        "        return 0;\n",
        "\n"
      ],
      "metadata": {
        "id": "_OcJrqU4XSND"
      },
      "execution_count": 66,
      "outputs": []
    },
    {
      "cell_type": "markdown",
      "source": [
        "### Classe para amostragem\n",
        "\n",
        "Os dados foram coletados com o uso de uma classe específica para isso, mas as funções bases também foram deixadas no código como auxiliares ou para uso posterior. \n",
        "\n",
        "Para futuros projetos terá uma classe projétil que armazena as informações como vetores envolvidos nele, e a classe de amostragem será puramente para coletar amostras.\n",
        "\n",
        "**AVISO! Rode o bloco anterior para preparar as classes usadas aqui**"
      ],
      "metadata": {
        "id": "xTkqgtHujRk4"
      }
    },
    {
      "cell_type": "code",
      "source": [
        "\"\"\"\n",
        "    classe para armazenar as informações e realizar as operações\n",
        "\"\"\"\n",
        "class data:\n",
        "\n",
        "    \"\"\"\n",
        "        Inicia o objeto e prepara os seus valores\n",
        "    \"\"\"\n",
        "    def __init__(self, time:float, pos0:point2, vel0:vec2, acel:vec2):\n",
        "      self.time = time;\n",
        "      self.pos0 = pos0;\n",
        "      self.acel = acel;\n",
        "      self.vel0 = vel0;\n",
        "\n",
        "      ## Realiza as operações // funções descritas no collab \n",
        "      pos1x = self.pos0.x + self.vel0.x*time + (acel.x*time**2)/2;\n",
        "      pos1y = self.pos0.y + self.vel0.y*time + (acel.y*time**2)/2;\n",
        "      self.pos1 = point2(pos1x, pos1y);\n",
        "\n",
        "      vel1x = self.vel0.x +  self.acel.x * time;\n",
        "      vel1y = self.vel0.y +  self.acel.y * time;\n",
        "      self.vel1 = vec2(vel1x, vel1y);\n",
        "\n",
        "\n",
        "    \"\"\"\n",
        "        Retorna o tempo necessário para que o projétil se encontre na raiz (eixo x) novamente. \n",
        "    \"\"\"\n",
        "    def origin(self) -> float:\n",
        "        return -2*self.vel0.y/self.acel.y;\n",
        "\n",
        "\n",
        "## FUNÇÕES BASES!\n",
        "\"\"\"\n",
        "    Retorna uma posição, considerando pos inicial, velocidade, tempo e aceleração\n",
        "\"\"\"\n",
        "def pos( pos0, vel0, acel, time):\n",
        "    return pos0 + vel0*time + acel*time**2/2;\n",
        "\n",
        "\n",
        "\"\"\"\n",
        "    Retorna um tempo, considerando uma posição inicial == final\n",
        "\"\"\"\n",
        "def time_to_origin(vel, acel):\n",
        "    return -2*vel/acel;"
      ],
      "metadata": {
        "id": "yvwtpdatgafH"
      },
      "execution_count": 89,
      "outputs": []
    },
    {
      "cell_type": "markdown",
      "source": [
        "### Código de teste"
      ],
      "metadata": {
        "id": "3YELC9cgkKxI"
      }
    },
    {
      "cell_type": "code",
      "source": [
        "### Valores de input para o teste\n",
        "tempo = 2.8862;\n",
        "angulo_0 = 45.0;\n",
        "vel_total_0 = 20.0;\n",
        "\n",
        "\n",
        "### não mexa e.e\n",
        "grav = vec2((0, -9.8))  #gravidade\n",
        "pos0 = point2(0, 0);    #origem\n",
        "vel0 = vec2(vel_total_0, angulo_0);   #vetor gerado\n",
        "dado = data(tempo, pos0, vel0, grav); #amostragem\n",
        "\n",
        "### printagem\n",
        "print(\"Vetor formado com base nos valores:\");\n",
        "print(\"{:.2f}\".format(vel0.x));\n",
        "print(\"{:.2f}\".format(vel0.y));\n",
        "\n",
        "print(\"\\nDados coletados com base nos valores:\");\n",
        "print(\"pos1x : {:.4f}\".format( dado.pos1.x));\n",
        "print(\"pos1y : {:.4f}\".format( dado.pos1.y));\n",
        "print(\"tempo para y = 0: {:.4f}\".format(dado.origin()));"
      ],
      "metadata": {
        "colab": {
          "base_uri": "https://localhost:8080/"
        },
        "id": "kzvAcOelkZ0C",
        "outputId": "fabd9364-19d9-4223-82ee-89c75133586c"
      },
      "execution_count": 95,
      "outputs": [
        {
          "output_type": "stream",
          "name": "stdout",
          "text": [
            "Vetor formado com base nos valores:\n",
            "14.14\n",
            "14.14\n",
            "\n",
            "Dados coletados com base nos valores:\n",
            "pos1x : 40.8170\n",
            "pos1y : -0.0007\n",
            "tempo para y = 0: 2.8862\n"
          ]
        }
      ]
    }
  ]
}